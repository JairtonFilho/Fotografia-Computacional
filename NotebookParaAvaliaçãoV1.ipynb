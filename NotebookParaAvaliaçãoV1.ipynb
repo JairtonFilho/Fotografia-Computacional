{
  "nbformat": 4,
  "nbformat_minor": 0,
  "metadata": {
    "colab": {
      "provenance": [],
      "include_colab_link": true
    },
    "kernelspec": {
      "name": "python3",
      "display_name": "Python 3"
    },
    "language_info": {
      "name": "python"
    }
  },
  "cells": [
    {
      "cell_type": "markdown",
      "metadata": {
        "id": "view-in-github",
        "colab_type": "text"
      },
      "source": [
        "<a href=\"https://colab.research.google.com/github/JairtonFilho/Fotografia-Computacional/blob/main/NotebookParaAvalia%C3%A7%C3%A3oV1.ipynb\" target=\"_parent\"><img src=\"https://colab.research.google.com/assets/colab-badge.svg\" alt=\"Open In Colab\"/></a>"
      ]
    },
    {
      "cell_type": "markdown",
      "source": [
        "##Notebook para avaliação"
      ],
      "metadata": {
        "id": "Yqe1fhhQffhg"
      }
    },
    {
      "cell_type": "code",
      "execution_count": null,
      "metadata": {
        "colab": {
          "base_uri": "https://localhost:8080/"
        },
        "id": "yqMOuhiIfezO",
        "outputId": "4c3c39d6-d03c-40cd-9224-cd84827d0852"
      },
      "outputs": [
        {
          "output_type": "stream",
          "name": "stdout",
          "text": [
            "Cloning into 'imgcourse'...\n",
            "remote: Enumerating objects: 22, done.\u001b[K\n",
            "remote: Counting objects: 100% (22/22), done.\u001b[K\n",
            "remote: Compressing objects: 100% (18/18), done.\u001b[K\n",
            "remote: Total 22 (delta 3), reused 21 (delta 2), pack-reused 0\u001b[K\n",
            "Receiving objects: 100% (22/22), 6.23 MiB | 28.46 MiB/s, done.\n",
            "Resolving deltas: 100% (3/3), done.\n"
          ]
        }
      ],
      "source": [
        "import os\n",
        "if os.path.isdir(\"imgcourse\"):\n",
        "  print(\"Diretório já existe!\")\n",
        "else:\n",
        "  !git clone https://github.com/mhsacampos/imgcourse"
      ]
    },
    {
      "cell_type": "markdown",
      "source": [
        "##Colocar o código nas próximas células para desenvolvimento dos exercícios de avaliação"
      ],
      "metadata": {
        "id": "FDXv2DFAf_tp"
      }
    }
  ]
}